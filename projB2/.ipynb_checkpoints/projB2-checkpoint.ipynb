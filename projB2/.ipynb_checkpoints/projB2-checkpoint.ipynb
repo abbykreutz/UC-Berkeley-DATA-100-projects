{
 "cells": [
  {
   "cell_type": "code",
   "execution_count": 72,
   "metadata": {
    "deletable": false,
    "editable": false
   },
   "outputs": [],
   "source": [
    "# Initialize Otter\n",
    "import otter\n",
    "grader = otter.Notebook(\"projB2.ipynb\")"
   ]
  },
  {
   "cell_type": "markdown",
   "metadata": {},
   "source": [
    "# Project B2: Spam/Ham Classification - Build Your Own Model\n",
    "\n",
    "## Feature Engineering, Classification, and Cross-Validation\n",
    "## Due Date: Thursday, December 5th, 11:59 PM PDT\n",
    "\n",
    "You must submit this assignment to Gradescope by the on-time deadline, Thursday, December 5th, 11:59 PM PDT. Please read the syllabus for the Slip Day policy. No late submissions beyond what is outlined in the Slip Day policy will be accepted. We strongly encourage you to plan to submit your work to Gradescope several hours before the stated deadline. This way, you will have ample time to reach out to staff for support if you encounter difficulties with submission. While course staff is happy to help guide you with submitting your assignment ahead of the deadline, we will not respond to last-minute requests for assistance (TAs need to sleep, after all!).\n",
    "\n",
    "Please read the instructions carefully when submitting your work to Gradescope. \n",
    "\n",
    "## Collaboration Policy\n",
    "\n",
    "Data science is a collaborative activity. While you may talk with others about the project, we ask that you **write your solutions individually**. If you do discuss the assignments with others, please **include their names** in the collaborators cell below."
   ]
  },
  {
   "cell_type": "markdown",
   "metadata": {},
   "source": [
    "**Collaborators**: *list collaborators here*"
   ]
  },
  {
   "cell_type": "markdown",
   "metadata": {
    "nbgrader": {
     "grade": false,
     "grade_id": "proj2",
     "locked": true,
     "schema_version": 2,
     "solution": false
    }
   },
   "source": [
    "## Introduction\n",
    "In this project, you will build and improve on the concepts and functions you implemented in Project B1 to create your own classifier to distinguish spam emails from ham (non-spam) emails. We will evaluate your work based on your model's accuracy and written responses in this notebook.\n",
    "\n",
    "After this assignment, you should feel comfortable with the following:\n",
    "\n",
    "- Using `sklearn` libraries to process data and fit classification models.\n",
    "- Validating the performance of your model and minimizing overfitting.\n",
    "- Generating and analyzing ROC curves.\n",
    "\n",
    "## Content Warning\n",
    "This is a **real-world** dataset —— the emails you are trying to classify are actual spam and legitimate emails. As a result, some of the spam emails may be in poor taste or be considered inappropriate. We think the benefit of working with realistic data outweighs these inappropriate emails, but we wanted to warn you at the beginning of the project so that you are made aware.\n",
    "\n",
    "If you feel uncomfortable with this topic, **please contact your TA, the instructors, or reach out via the [Fall 2024 additional accommodations form](https://docs.google.com/forms/d/e/1FAIpQLScwnGIQjfqWzH2Acx5bEBNZzNeLAdI1_MfR34zPLZl7ezYIoA/viewform).**"
   ]
  },
  {
   "cell_type": "code",
   "execution_count": 73,
   "metadata": {},
   "outputs": [],
   "source": [
    "# Run this cell to suppress all FutureWarnings\n",
    "import warnings\n",
    "warnings.filterwarnings(\"ignore\", category=FutureWarning)"
   ]
  },
  {
   "cell_type": "markdown",
   "metadata": {},
   "source": [
    "## Grading\n",
    "Grading is broken down into autograded answers and free responses. \n",
    "\n",
    "For autograded answers, the results of your code are compared to provided and/or hidden tests.\n",
    "\n",
    "For free response questions, readers will evaluate how well you answered the question and/or fulfilled the requirements of the question.\n",
    "\n",
    "Question | Manual | Points\n",
    "----|----|----\n",
    "1a | Yes | 4\n",
    "1b | Yes | 2\n",
    "2 | No | 0\n",
    "3a | No | 5\n",
    "3b | No | 10\n",
    "4 | Yes | 6\n",
    "5 | Yes | 3\n",
    "6a | Yes | 3\n",
    "6b | Yes | 2\n",
    "7ai | No | 1\n",
    "7aii | Yes | 1\n",
    "7bi | Yes | 1\n",
    "7bii | Yes | 1\n",
    "7c | Yes | 1\n",
    "7d | Yes | 2\n",
    "7e | Yes | 2\n",
    "Total | 12 | 44"
   ]
  },
  {
   "cell_type": "markdown",
   "metadata": {},
   "source": [
    "## Before You Start\n",
    "\n",
    "For each question in the assignment, please write down your answer in the answer cell(s) right below the question. \n",
    "\n",
    "We understand that it is helpful to have extra cells breaking down the process of reaching your final answer. If you happen to create new cells below your answer to run code, **NEVER** add cells between a question cell and the answer cell below it. It will cause errors when we run the autograder, and it will sometimes cause a failure to generate the PDF file.\n",
    "\n",
    "**Important note: The local autograder tests will not be comprehensive. You can pass the automated tests in your notebook but still fail tests in the autograder.** Please be sure to check your results carefully.\n",
    "\n",
    "### Debugging Guide\n",
    "If you run into any technical issues, we highly recommend checking out the [Data 100 Debugging Guide](https://ds100.org/debugging-guide/). This guide contains general questions about Jupyter notebooks / Datahub, Gradescope, common `pandas` errors, RegEx, visualizations, and more."
   ]
  },
  {
   "cell_type": "code",
   "execution_count": 74,
   "metadata": {
    "ExecuteTime": {
     "end_time": "2019-04-03T20:17:41.341673Z",
     "start_time": "2019-04-03T20:17:41.330307Z"
    },
    "nbgrader": {
     "grade": false,
     "grade_id": "imports",
     "locked": true,
     "schema_version": 2,
     "solution": false
    }
   },
   "outputs": [],
   "source": [
    "import numpy as np\n",
    "import pandas as pd\n",
    "import sys\n",
    "\n",
    "import matplotlib.pyplot as plt\n",
    "%matplotlib inline\n",
    "\n",
    "import seaborn as sns\n",
    "sns.set(style = \"whitegrid\", \n",
    "        color_codes = True,\n",
    "        font_scale = 1.5)\n",
    "\n",
    "from datetime import datetime\n",
    "from IPython.display import display, HTML"
   ]
  },
  {
   "cell_type": "markdown",
   "metadata": {
    "nbgrader": {
     "grade": false,
     "grade_id": "p1",
     "locked": true,
     "schema_version": 2,
     "solution": false
    }
   },
   "source": [
    "<br/>\n",
    "<hr style=\"border: 5px solid #003262;\" />\n",
    "<hr style=\"border: 1px solid #fdb515;\" />\n",
    "\n",
    "# Setup and Recap\n",
    "\n",
    "Here, we will provide a summary of Project B1 to remind you of how we cleaned the data, explored it, and implemented methods helpful in building your own model."
   ]
  },
  {
   "cell_type": "markdown",
   "metadata": {
    "nbgrader": {
     "grade": false,
     "grade_id": "loading",
     "locked": true,
     "schema_version": 2,
     "solution": false
    }
   },
   "source": [
    "## Loading and Cleaning Data\n",
    "\n",
    "Remember that in the email classification task, our goal is to classify emails as spam or not spam (referred to as \"ham\") using features generated from the text in the email. \n",
    "\n",
    "The dataset consists of email messages and their labels (0 for ham, 1 for spam). Your labeled training dataset contains 8,348 labeled examples, and the unlabeled test set contains 1,000 unlabeled examples.\n",
    "\n",
    "Run the following cell to load the data into a `DataFrame`.\n",
    "\n",
    "The `train` `DataFrame` contains labeled data that you will use to train your model. It contains four columns:\n",
    "\n",
    "1. `id`: An identifier for the training example.\n",
    "1. `subject`: The subject of the email.\n",
    "1. `email`: The text of the email.\n",
    "1. `spam`: 1 if the email is spam, 0 if the email is ham (not spam).\n",
    "\n",
    "The `test` `DataFrame` contains 1,000 unlabeled emails. You will predict labels for these emails and submit your predictions to the autograder for evaluation."
   ]
  },
  {
   "cell_type": "code",
   "execution_count": 75,
   "metadata": {},
   "outputs": [],
   "source": [
    "import zipfile\n",
    "with zipfile.ZipFile('spam_ham_data.zip') as item:\n",
    "    with item.open(\"train.csv\") as f:\n",
    "        original_training_data = pd.read_csv(f)\n",
    "    with item.open(\"test.csv\") as f:\n",
    "        test = pd.read_csv(f)"
   ]
  },
  {
   "cell_type": "code",
   "execution_count": 76,
   "metadata": {},
   "outputs": [
    {
     "data": {
      "text/html": [
       "<div>\n",
       "<style scoped>\n",
       "    .dataframe tbody tr th:only-of-type {\n",
       "        vertical-align: middle;\n",
       "    }\n",
       "\n",
       "    .dataframe tbody tr th {\n",
       "        vertical-align: top;\n",
       "    }\n",
       "\n",
       "    .dataframe thead th {\n",
       "        text-align: right;\n",
       "    }\n",
       "</style>\n",
       "<table border=\"1\" class=\"dataframe\">\n",
       "  <thead>\n",
       "    <tr style=\"text-align: right;\">\n",
       "      <th></th>\n",
       "      <th>id</th>\n",
       "      <th>subject</th>\n",
       "      <th>email</th>\n",
       "      <th>spam</th>\n",
       "    </tr>\n",
       "  </thead>\n",
       "  <tbody>\n",
       "    <tr>\n",
       "      <th>0</th>\n",
       "      <td>0</td>\n",
       "      <td>Subject: A&amp;L Daily to be auctioned in bankrupt...</td>\n",
       "      <td>url: http://boingboing.net/#85534171\\n date: n...</td>\n",
       "      <td>0</td>\n",
       "    </tr>\n",
       "    <tr>\n",
       "      <th>1</th>\n",
       "      <td>1</td>\n",
       "      <td>Subject: Wired: \"Stronger ties between ISPs an...</td>\n",
       "      <td>url: http://scriptingnews.userland.com/backiss...</td>\n",
       "      <td>0</td>\n",
       "    </tr>\n",
       "    <tr>\n",
       "      <th>2</th>\n",
       "      <td>2</td>\n",
       "      <td>Subject: It's just too small                  ...</td>\n",
       "      <td>&lt;html&gt;\\n &lt;head&gt;\\n &lt;/head&gt;\\n &lt;body&gt;\\n &lt;font siz...</td>\n",
       "      <td>1</td>\n",
       "    </tr>\n",
       "    <tr>\n",
       "      <th>3</th>\n",
       "      <td>3</td>\n",
       "      <td>Subject: liberal defnitions\\n</td>\n",
       "      <td>depends on how much over spending vs. how much...</td>\n",
       "      <td>0</td>\n",
       "    </tr>\n",
       "    <tr>\n",
       "      <th>4</th>\n",
       "      <td>4</td>\n",
       "      <td>Subject: RE: [ILUG] Newbie seeks advice - Suse...</td>\n",
       "      <td>hehe sorry but if you hit caps lock twice the ...</td>\n",
       "      <td>0</td>\n",
       "    </tr>\n",
       "  </tbody>\n",
       "</table>\n",
       "</div>"
      ],
      "text/plain": [
       "   id                                            subject  \\\n",
       "0   0  Subject: A&L Daily to be auctioned in bankrupt...   \n",
       "1   1  Subject: Wired: \"Stronger ties between ISPs an...   \n",
       "2   2  Subject: It's just too small                  ...   \n",
       "3   3                      Subject: liberal defnitions\\n   \n",
       "4   4  Subject: RE: [ILUG] Newbie seeks advice - Suse...   \n",
       "\n",
       "                                               email  spam  \n",
       "0  url: http://boingboing.net/#85534171\\n date: n...     0  \n",
       "1  url: http://scriptingnews.userland.com/backiss...     0  \n",
       "2  <html>\\n <head>\\n </head>\\n <body>\\n <font siz...     1  \n",
       "3  depends on how much over spending vs. how much...     0  \n",
       "4  hehe sorry but if you hit caps lock twice the ...     0  "
      ]
     },
     "execution_count": 76,
     "metadata": {},
     "output_type": "execute_result"
    }
   ],
   "source": [
    "# Convert the emails to lowercase as the first step of text processing.\n",
    "original_training_data['email'] = original_training_data['email'].str.lower()\n",
    "test['email'] = test['email'].str.lower()\n",
    "\n",
    "original_training_data.head()"
   ]
  },
  {
   "cell_type": "markdown",
   "metadata": {},
   "source": [
    "Feel free to explore the dataset above along with any specific spam and ham emails that interest you. Keep in mind that our data may contain missing values, which are handled in the following cell."
   ]
  },
  {
   "cell_type": "code",
   "execution_count": 77,
   "metadata": {
    "ExecuteTime": {
     "end_time": "2019-04-03T20:17:42.203231Z",
     "start_time": "2019-04-03T20:17:42.185104Z"
    },
    "nbgrader": {
     "grade": false,
     "grade_id": "cell-b1fb39d9b651ca1b",
     "locked": false,
     "schema_version": 2,
     "solution": true
    }
   },
   "outputs": [
    {
     "name": "stdout",
     "output_type": "stream",
     "text": [
      "Before imputation:\n",
      "id         0\n",
      "subject    6\n",
      "email      0\n",
      "spam       0\n",
      "dtype: int64\n",
      "------------\n",
      "After imputation:\n",
      "id         0\n",
      "subject    0\n",
      "email      0\n",
      "spam       0\n",
      "dtype: int64\n"
     ]
    }
   ],
   "source": [
    "# Fill any missing or NAN values.\n",
    "print('Before imputation:')\n",
    "print(original_training_data.isnull().sum())\n",
    "original_training_data = original_training_data.fillna('')\n",
    "print('------------')\n",
    "print('After imputation:')\n",
    "print(original_training_data.isnull().sum())"
   ]
  },
  {
   "cell_type": "markdown",
   "metadata": {},
   "source": [
    "## Training/Validation Split\n",
    "\n",
    "Recall that the training data we downloaded is all the data we have available for both training models and **validating** the models that we train. Therefore, we split the training data into separate training and validation datasets. Once you have finished training, you will need this validation data to assess the performance of your classifier. \n",
    "\n",
    "As in Project B1, we set the seed (`random_state`) to 42. **Do not modify this in the following questions, as our tests depend on this random seed.**"
   ]
  },
  {
   "cell_type": "code",
   "execution_count": 78,
   "metadata": {
    "ExecuteTime": {
     "end_time": "2019-04-03T20:17:42.317970Z",
     "start_time": "2019-04-03T20:17:42.294532Z"
    },
    "nbgrader": {
     "grade": false,
     "grade_id": "cell-873194ed3e686dfb",
     "locked": true,
     "schema_version": 2,
     "solution": false
    }
   },
   "outputs": [],
   "source": [
    "# This creates a 90/10 train-validation split on our labeled data.\n",
    "from sklearn.model_selection import train_test_split\n",
    "train, val = train_test_split(original_training_data, test_size = 0.1, random_state = 42)\n",
    "\n",
    "# We must do this in order to preserve the ordering of emails to labels for words_in_texts.\n",
    "train = train.reset_index(drop = True)"
   ]
  },
  {
   "cell_type": "markdown",
   "metadata": {
    "nbgrader": {
     "grade": false,
     "grade_id": "feat-eng",
     "locked": true,
     "schema_version": 2,
     "solution": false
    }
   },
   "source": [
    "## Feature Engineering\n",
    "\n",
    "We need a numeric feature matrix $\\mathbb{X}$ and a vector of corresponding binary labels $\\mathbb{Y}$ to train a logistic regression model. In Project B1, we implemented the function `words_in_texts`, which creates numeric features derived from the email text and uses those features for logistic regression. \n",
    "\n",
    "For this project, we have provided you with an implemented version of `words_in_texts`. Remember that the function outputs a 2-dimensional `NumPy` array containing one row for each email text. The row should contain a 0 or a 1 for each word in the list: 0 if the word doesn't appear in the text and 1 if the word does. \n",
    "\n",
    "Run the following cell to see how the function works on some text."
   ]
  },
  {
   "cell_type": "code",
   "execution_count": 79,
   "metadata": {},
   "outputs": [
    {
     "data": {
      "text/plain": [
       "array([[1, 0, 0],\n",
       "       [1, 0, 1]])"
      ]
     },
     "execution_count": 79,
     "metadata": {},
     "output_type": "execute_result"
    }
   ],
   "source": [
    "from projB2_utils import words_in_texts\n",
    "\n",
    "words_in_texts(['hello', 'bye', 'world'], pd.Series(['hello', 'hello worldhello']))"
   ]
  },
  {
   "cell_type": "markdown",
   "metadata": {
    "nbgrader": {
     "grade": false,
     "grade_id": "classification",
     "locked": true,
     "schema_version": 2,
     "solution": false
    }
   },
   "source": [
    "## EDA and Basic Classification\n",
    "\n",
    "In Project B1, we visualized the frequency of different words in spam and ham emails and used `words_in_texts(words, train['email'])` to train a classifier directly. We also provided a simple set of 5 words that might be useful as features to distinguish spam/ham emails. \n",
    "\n",
    "We then built a model using the [`LogisticRegression`](http://scikit-learn.org/stable/modules/generated/sklearn.linear_model.LogisticRegression.html) classifier from `sklearn`.\n",
    "\n",
    "Run the following cell to see the performance of a simple model using these words and the `train` `DataFrame`."
   ]
  },
  {
   "cell_type": "code",
   "execution_count": 80,
   "metadata": {
    "ExecuteTime": {
     "end_time": "2019-04-03T20:17:43.726012Z",
     "start_time": "2019-04-03T20:17:43.498088Z"
    },
    "nbgrader": {
     "grade": false,
     "grade_id": "q4-answer",
     "locked": false,
     "schema_version": 2,
     "solution": true
    },
    "tags": [
     "student"
    ]
   },
   "outputs": [
    {
     "data": {
      "text/plain": [
       "(array([[0, 0, 0, 0, 0],\n",
       "        [0, 0, 0, 0, 0],\n",
       "        [0, 0, 0, 0, 0],\n",
       "        [0, 0, 0, 0, 0],\n",
       "        [0, 0, 0, 1, 0]]),\n",
       " array([0, 0, 0, 0, 0]))"
      ]
     },
     "execution_count": 80,
     "metadata": {},
     "output_type": "execute_result"
    }
   ],
   "source": [
    "some_words = ['drug', 'bank', 'prescription', 'memo', 'private']\n",
    "\n",
    "X_train = words_in_texts(some_words, train['email'])\n",
    "Y_train = np.array(train['spam'])\n",
    "\n",
    "X_train[:5], Y_train[:5]"
   ]
  },
  {
   "cell_type": "code",
   "execution_count": 81,
   "metadata": {
    "ExecuteTime": {
     "end_time": "2019-04-03T20:17:44.593918Z",
     "start_time": "2019-04-03T20:17:43.783872Z"
    },
    "nbgrader": {
     "grade": false,
     "grade_id": "q5-answer",
     "locked": false,
     "schema_version": 2,
     "solution": true
    },
    "tags": [
     "student"
    ]
   },
   "outputs": [
    {
     "name": "stdout",
     "output_type": "stream",
     "text": [
      "Training Accuracy:  0.7576201251164648\n"
     ]
    }
   ],
   "source": [
    "from sklearn.linear_model import LogisticRegression\n",
    "\n",
    "simple_model = LogisticRegression()\n",
    "simple_model.fit(X_train, Y_train)\n",
    "\n",
    "training_accuracy = simple_model.score(X_train, Y_train)\n",
    "print(\"Training Accuracy: \", training_accuracy)"
   ]
  },
  {
   "cell_type": "markdown",
   "metadata": {},
   "source": [
    "## Evaluating Classifiers"
   ]
  },
  {
   "cell_type": "markdown",
   "metadata": {},
   "source": [
    "In our models, we evaluate the accuracy of the training set, which may provide a misleading accuracy measure. In Project B1, we calculated various metrics to consider other ways of evaluating a classifier, in addition to overall accuracy. Below is a reference to those concepts.\n",
    "\n",
    "Presumably, our classifier will be used for **filtering**, or preventing messages labeled `spam` from reaching someone's inbox. There are two kinds of errors we can make:\n",
    "- **False positive (FP)**: A ham email gets flagged as spam and filtered out of the inbox.\n",
    "- **False negative (FN)**: A spam email gets mislabeled as ham and ends up in the inbox.\n",
    "\n",
    "To be clear, we label spam emails as 1 and ham emails as 0. These definitions depend both on the true labels and the predicted labels. False positives and false negatives may be of differing importance, leading us to consider more ways of evaluating a classifier in addition to overall accuracy:\n",
    "\n",
    "**Precision**: Measures the proportion of emails flagged as spam that are actually spam. Mathematically, $\\frac{\\text{TP}}{\\text{TP} + \\text{FP}}$.\n",
    "\n",
    "**Recall**: Measures the proportion  of spam emails that were correctly flagged as spam. Mathematically, $\\frac{\\text{TP}}{\\text{TP} + \\text{FN}}$.\n",
    "\n",
    "**False positive rate**: Measures the proportion  of ham emails that were incorrectly flagged as spam. Mathematically, $\\frac{\\text{FP}}{\\text{FP} + \\text{TN}}$.\n",
    "\n",
    "The below graphic (modified slightly from [Wikipedia](https://en.wikipedia.org/wiki/Precision_and_recall)) may help you understand precision and recall visually:<br />\n",
    "<center>\n",
    "<img alt=\"precision_recall\" src=\"precision_recall.png\" width=\"600px;\" />\n",
    "</center>\n",
    "\n",
    "Note that a True Positive (TP) is a spam email that is classified as spam, and a True Negative (TN) is a ham email that is classified as ham."
   ]
  },
  {
   "cell_type": "markdown",
   "metadata": {
    "nbgrader": {
     "grade": false,
     "grade_id": "p2",
     "locked": true,
     "schema_version": 2,
     "solution": false
    }
   },
   "source": [
    "<br/>\n",
    "<hr style=\"border: 1px solid #fdb515;\" />\n",
    "\n",
    "# Moving Forward\n",
    "\n",
    "With this in mind, it is now your task to make the spam filter more accurate. To get full credit on the accuracy part of this assignment, you must get at least **85%** accuracy on both the train and test set (see Question 3 for the partial credit breakdown). To determine your accuracy on the test set, you will use your classifier to predict every email in the `test` `DataFrame` and upload your predictions to Gradescope.\n",
    "\n",
    "**You will only be able to submit your test set predictions to Gradescope up to 4 times per day**. You will be able to see your accuracy on the entire test set when submitting to Gradescope. Note that attempts will not carry over across days, so we recommend planning ahead to make sure you have enough time to finetune your model! In the case that you are approved for an extension, you are granted 4 more submissions for each day the deadline has been extended.\n",
    "\n",
    "Here are some ideas for improving your model:\n",
    "\n",
    "1. Finding better features based on the email text. Some example features are:\n",
    "    1. Number of characters in the subject/body\n",
    "    1. Number of words in the subject/body\n",
    "    1. Use of punctuation (e.g., how many '!'s were there?)\n",
    "    1. Number/percentage of capital letters \n",
    "    1. Whether the email is a reply to an earlier email or a forwarded email\n",
    "1. Finding better words to use as features. Which words are the best at distinguishing emails? This requires digging into the email text itself. Alternatively, you can identify misclassified emails and see which relevant words are missing in your model.\n",
    "1. Reducing dimensionality and/or multicollinearity. There are a few methods to achieve this:\n",
    "    1. Interpret the model coefficients. Note that a feature will be more valuable in classification if its coefficient has a larger **absolute** value. If the coefficient has a lower **absolute** value, the feature likely isn't valuable in classifying emails.\n",
    "1. Better data processing. For example, many emails contain HTML as well as text. You can consider extracting the text from the HTML to help you find better words. Or, you can match HTML tags themselves, or even some combination of the two.\n",
    "1. Model selection. You can adjust the parameters of your model (e.g. the penalty type, the regularization parameter, or any arguments in `LogisticRegression`) to achieve higher accuracy. Recall that you should use cross-validation for feature and model selection! Otherwise, you will likely overfit to your training data.\n",
    "    1. Consider implementing L1 regularization. The [documentation](https://scikit-learn.org/stable/modules/generated/sklearn.linear_model.LogisticRegression.html) for `LogisticRegression` may be helpful here. \n",
    "    1. We have imported `GridSearchCV` for you. You may use sklearn's `GridSearchCV` ([documentation](https://scikit-learn.org/stable/modules/generated/sklearn.model_selection.GridSearchCV.html)) class to perform cross-validation. You do not need to code cross-validation from scratch, though you are welcome to do so.\n",
    "\n",
    "Here's an example of how to use `GridSearchCV`. Suppose we wanted to experiment with 4 different solvers (numerical methods for optimizing the mode) models for a `LogisticRegression` model `lr_model`. \n",
    "1. We could define a dictionary specifying the hyperparameters and the specific values we want to try out like so: `parameters = {'solver':[{'lbfgs', 'liblinear', 'newton-cg', 'saga']}`.\n",
    "2. Running `grid = GridSearchCV(estimator=lr_model, param_grid=parameters)` would give us a model for each combination of hyperparameters we are testing - in this case, just 4 models.\n",
    "3. We fit each model to some training data `X_train` and `Y_train` using `grid_result = grid.fit(X_train, Y_train)`.\n",
    "4. Indexing into `grid_result.cv_results_` with a particular metric (in this case, `mean_test_score`), we get an array with the scores corresponding to each of the models. `grid_result.cv_results_['mean_test_score']`.\n",
    "Feel free to experiment with other hyperparameters and metrics as well. The documentation is your friend!     \n",
    "       \n",
    "You may use whatever method you prefer to create features, but **you may only use the packages we've imported for you in the cell below or earlier in this notebook**. In addition, **you are only allowed to train logistic regression models**. No decision trees, random forests, k-nearest-neighbors, neural nets, etc. \n",
    "\n",
    "**Note 1:** You may want to use your **validation data** to evaluate your model and get a better sense of how it will perform on the test set. However, you may overfit to your validation set if you try to optimize your validation accuracy too much. Alternatively, you can perform cross-validation on the entire training set.\n",
    "\n",
    "**Note 2:** If you see a `ConvergenceWarning`, increase the maximum number of iterations the model runs for by passing in a parameter, `max_iter`, into `LogisticRegression()`. This should get rid of the warning. For a longer discussion on why this warning appears, you might find [this StackOverflow post](https://stackoverflow.com/questions/62658215/convergencewarning-lbfgs-failed-to-converge-status-1-stop-total-no-of-iter) helpful. Convergence of solvers is not in scope for Data 100, but by understanding what the error messages are saying, you can get some useful context on what to do in these situations."
   ]
  },
  {
   "cell_type": "markdown",
   "metadata": {},
   "source": [
    "<br/>\n",
    "<hr style=\"border: 1px solid #fdb515;\" />\n",
    "\n",
    "# Question 1: Exploratory Data Analysis\n",
    "\n",
    "To decide which features to use when building your model, it is helpful to conduct EDA. Show a visualization you used to select features for your model. \n",
    "\n",
    "Please include:\n",
    "\n",
    "1. A plot showing something meaningful about the data that helped you during feature selection, model selection, or both.\n",
    "2. Two or three sentences describing what you plotted and its implications with respect to your features.\n",
    "\n",
    "You can create as many plots as you want in your feature selection process, but you should select only one for the response question below.\n",
    "\n",
    "**You should not just produce an identical visualization to Question 3 in Project B1.** For this section, we’d like you to go beyond the analysis you performed in Project B1. Choose some plot other than the 1-dimensional distribution of some quantity for spam and ham emails. In particular, do not produce a bar plot of proportions like you created in Question 3 of Project B1. Any other plot is acceptable, **as long as it comes with thoughtful commentary.** Here are some ideas:\n",
    "\n",
    "1. Consider the correlation between multiple features (look up correlation plots and `sns.heatmap` ([documentation](https://seaborn.pydata.org/generated/seaborn.heatmap.html))). \n",
    "1. Try to show redundancy in a group of features (e.g., `body` and `html` might co-occur relatively frequently, or you might be able to design a feature that captures all HTML tags and compares them to these). \n",
    "1. Visualize which words have high or low values for helpful statistics.\n",
    "1. Visually depict whether spam emails tend to be wordier (in some sense) than ham emails."
   ]
  },
  {
   "cell_type": "markdown",
   "metadata": {
    "deletable": false,
    "editable": false
   },
   "source": [
    "<!-- BEGIN QUESTION -->\n",
    "\n",
    "<br>\n",
    "\n",
    "---\n",
    "\n",
    "## Question 1a\n",
    "\n",
    "Generate your visualization in the cell below.\n"
   ]
  },
  {
   "cell_type": "code",
   "execution_count": 82,
   "metadata": {
    "tags": []
   },
   "outputs": [
    {
     "data": {
      "image/png": "[encoded data removed]",
      "text/plain": [
       "<Figure size 800x600 with 1 Axes>"
      ]
     },
     "metadata": {},
     "output_type": "display_data"
    }
   ],
   "source": [
    "email_list = list(original_training_data['email'])\n",
    "html_word_count = [email.count('html') for email in email_list]\n",
    "free_word_count = [email.count('free') for email in email_list]\n",
    "\n",
    "original_training_data['html word count'] = html_word_count\n",
    "original_training_data['free word count'] = free_word_count\n",
    "\n",
    "ham = original_training_data['spam']==0\n",
    "spam = original_training_data['spam']==1\n",
    "\n",
    "remove_free = original_training_data[original_training_data['free word count'] < 8] \n",
    "remove_html = remove_free[remove_free['html word count'] < 8]\n",
    "\n",
    "ham_html = remove_html['html word count'].loc[ham]\n",
    "ham_free = remove_html['free word count'].loc[ham] \n",
    "\n",
    "spam_html = remove_html['html word count'].loc[spam]\n",
    "spam_free = remove_html['free word count'].loc[spam]\n",
    "\n",
    "plt.figure(figsize=(8,6))\n",
    "sns.kdeplot(x=ham_html, y=ham_free, cmap='Blues', label='Ham')\n",
    "sns.kdeplot(x=spam_html, y=spam_free, cmap='Reds', label='Spam')\n",
    "\n",
    "plt.title('KDE Plot Comparison of the \"html\" Word Count vs. \"free\" WordCount in Spam/Ham Emails')\n",
    "plt.legend()\n",
    "plt.show()"
   ]
  },
  {
   "cell_type": "markdown",
   "metadata": {
    "deletable": false,
    "editable": false
   },
   "source": [
    "<!-- END QUESTION -->\n",
    "\n",
    "<!-- BEGIN QUESTION -->\n",
    "\n",
    "<br>\n",
    "\n",
    "---\n",
    "\n",
    "## Question 1b\n",
    "\n",
    "In two to three sentences, describe what you plotted and its implications with respect to your features."
   ]
  },
  {
   "cell_type": "markdown",
   "metadata": {},
   "source": [
    "The visualization is a KDE plot comparing how often the words \"html\" and \"free\" appear in spam (red) and ham (blue) emails. Spam emails use these words more frequently and across a wider range, while ham emails are concentrated near the origin (0,0). The plot shows that \"html\" and \"free\" capture distinct information, making them valuable features for classification, as emails with low counts for these words are more likely to be ham."
   ]
  },
  {
   "cell_type": "markdown",
   "metadata": {
    "deletable": false,
    "editable": false
   },
   "source": [
    "<!-- END QUESTION -->\n",
    "\n",
    "<br/>\n",
    "<hr style=\"border: 1px solid #fdb515;\" />\n",
    "\n",
    "# Question 2: Building Your Own Model\n",
    "\n",
    "Now that you've explored the data and relevant features through EDA, it's time to build your model! As mentioned earlier, you may use whatever method you prefer to create features, but **you may only use the packages we've imported for you in the cell below or earlier in this notebook**. In addition, **you are only allowed to train logistic regression models**. No decision trees, random forests, k-nearest-neighbors, neural nets, etc. \n",
    "\n",
    "Please consider the ideas mentioned above when choosing features. We have not provided any code to do this, so feel free to create as many cells as you need to tackle this task. "
   ]
  },
  {
   "cell_type": "code",
   "execution_count": 83,
   "metadata": {
    "deletable": false,
    "editable": false
   },
   "outputs": [],
   "source": [
    "# import libraries\n",
    "# You may use any of these to create your features.\n",
    "from sklearn.preprocessing import OneHotEncoder\n",
    "from sklearn.linear_model import LogisticRegression\n",
    "from sklearn.metrics import accuracy_score, roc_curve, confusion_matrix\n",
    "from sklearn.model_selection import GridSearchCV\n",
    "from sklearn.decomposition import PCA\n",
    "import re\n",
    "from collections import Counter"
   ]
  },
  {
   "cell_type": "code",
   "execution_count": 89,
   "metadata": {
    "tags": []
   },
   "outputs": [
    {
     "name": "stdout",
     "output_type": "stream",
     "text": [
      "Training Accuracy: 89.38%\n"
     ]
    }
   ],
   "source": [
    "# Define your processing function, processed data, and model here. \n",
    "# You may find it helpful to look through the rest of the questions first!\n",
    "\n",
    "def preprocess_data(df):\n",
    "    # count occurrences of specific words\n",
    "    words = [ \"free\", \"offer\", \"win\", \"click\", \"urgent\", \"money\", \"subscribe\", \"html\", \n",
    "             \"font\", \"head\", \"body\", \"order\", \"business\", \"href\", \"reply\", \"loan\", \"title\", \n",
    "             \"class\", \"color\", \"www\", \"com\", \"<\", \">\", \"/\" \n",
    "    ]\n",
    "    for word in words:\n",
    "        df[f'{word}_count'] = df['email'].str.contains(word, na=False).astype(int)\n",
    "    \n",
    "    # exclamation count\n",
    "    df['exclamation_count'] = df['email'].str.count('!').fillna(0)\n",
    "    \n",
    "    # subject features\n",
    "    df['contains_fw'] = df['subject'].str.contains('Fw:', na=False).astype(int)\n",
    "    df['contains_re'] = df['subject'].str.contains('Re:', na=False).astype(int)\n",
    "    \n",
    "    # length-based features\n",
    "    df['email_length'] = df['email'].str.len().fillna(0)\n",
    "    df['subject_length'] = df['subject'].str.len().fillna(0)\n",
    "    \n",
    "    return df\n",
    "\n",
    "train_processed = preprocess_data(train)\n",
    "test_processed = preprocess_data(test)\n",
    "\n",
    "features = [ 'free_count', 'offer_count', 'win_count', 'click_count', 'urgent_count',\n",
    "            'money_count', 'subscribe_count', 'html_count', 'font_count', 'head_count',\n",
    "            'body_count', 'order_count', 'business_count', 'href_count', 'reply_count',\n",
    "            'loan_count', 'title_count', 'class_count', 'color_count', 'www_count',\n",
    "            'com_count', '<_count', '>_count', '/_count', 'exclamation_count',\n",
    "            'contains_fw', 'contains_re', 'email_length', 'subject_length' \n",
    "]\n",
    "X_train = train_processed[features]\n",
    "y_train = train_processed['spam']\n",
    "\n",
    "\n",
    "model = LogisticRegression(solver='lbfgs', max_iter=1000)\n",
    "model.fit(X_train, y_train)\n",
    "\n",
    "y_train_pred = model.predict(X_train)\n",
    "train_accuracy = accuracy_score(y_train, y_train_pred)\n",
    "print(f\"Training Accuracy: {train_accuracy:.2%}\")\n",
    "\n",
    "test_processed = preprocess_data(test)\n",
    "\n",
    "X_test = test_processed[features]\n",
    "\n",
    "y_test_pred = model.predict(X_test)"
   ]
  },
  {
   "cell_type": "markdown",
   "metadata": {
    "deletable": false,
    "editable": false
   },
   "source": [
    "<br>\n",
    "\n",
    "---\n",
    "\n",
    "# Question 3\n",
    "\n",
    "### Grading Scheme\n",
    "\n",
    "Your grade for this question will be based on your model’s accuracy when making predictions on the training set and your model’s accuracy when making predictions on the test set. The tables below provide scoring guidelines. If your accuracy lies in a particular range, you will receive the number of points associated with that range.\n",
    "\n",
    "**Important**: While your training accuracy can be checked at any time in this notebook, your test accuracy can only be checked by submitting your model’s predictions to Gradescope. **You will only be able to submit your test set predictions to Gradescope up to 4 times per day**. In the case that you are approved for an extension, you are granted 4 more submissions for each day the deadline has been extended. Plan ahead to make sure you have enough time to fine-tune your model! The thresholds are as follows:\n",
    "\n",
    "Points | 5 | 3 | 1.5 | 0\n",
    "--- | --- | --- | --- | ---\n",
    "**Training** Accuracy | 85% and Above | \\[80, 85) | \\[70, 80) | Below 70%\n",
    "\n",
    "Points | 10 | 6 | 3 | 0\n",
    "--- | --- | --- | --- | ---\n",
    "**Testing** Accuracy | 85% and Above | \\[80, 85) | \\[70, 80) | Below 70%\n",
    "\n",
    "\n",
    "<br><br>\n",
    "\n",
    "---\n",
    "\n",
    "## Question 3a: Train Predictions\n",
    "Assign your predictions for the class of each data point in the training set `train` to `train_predictions`."
   ]
  },
  {
   "cell_type": "code",
   "execution_count": 90,
   "metadata": {
    "tags": []
   },
   "outputs": [
    {
     "data": {
      "text/plain": [
       "0.8937841075469187"
      ]
     },
     "execution_count": 90,
     "metadata": {},
     "output_type": "execute_result"
    }
   ],
   "source": [
    "train_predictions = model.predict(X_train)\n",
    "\n",
    "# Print your training accuracy. \n",
    "training_accuracy = np.mean(train_predictions == train[\"spam\"])\n",
    "training_accuracy"
   ]
  },
  {
   "cell_type": "code",
   "execution_count": 91,
   "metadata": {
    "deletable": false,
    "editable": false
   },
   "outputs": [
    {
     "data": {
      "text/html": [
       "<p><strong><pre style='display: inline;'>q3a</pre></strong> passed! ✨</p>"
      ],
      "text/plain": [
       "q3a results: All test cases passed!"
      ]
     },
     "execution_count": 91,
     "metadata": {},
     "output_type": "execute_result"
    }
   ],
   "source": [
    "grader.check(\"q3a\")"
   ]
  },
  {
   "cell_type": "markdown",
   "metadata": {
    "deletable": false,
    "editable": false
   },
   "source": [
    "<br>\n",
    "\n",
    "---\n",
    "\n",
    "## Question 3b: Test Predictions\n",
    "\n",
    "The following code will write your predictions on the test dataset to a CSV file. **You will need to submit this file to the \"Project B2 Test Set Predictions\" assignment on Gradescope to get credit for this question.**\n",
    "\n",
    "Assign your predictions for the class of each datapoint in the test set `test` to a 1-dimensional array called `test_predictions`. **Please make sure you save your predictions to `test_predictions`, as this is how part of your score for this question will be determined.**\n",
    "\n",
    "**Remember that if you've performed transformations or featurization on the training data, you must also perform the same transformations on the test data in order to make predictions.** For example, if you've created features for the words \"drug\" and \"money\" on the training data, you must also extract the same features in order to use `scikit-learn`'s `.predict` method.\n",
    "\n",
    "**Gradescope limits you to 4 submissions per day to meet the threshold.** If you are approved for an extension, you are granted 4 more submissions for each day the deadline has been extended.\n",
    "\n",
    "The provided tests check that your predictions are in the correct format but are worth 0 points in the *Project B2 Coding assignment*. To evaluate your classifier accuracy, you must submit the CSV file to the *Project B2 Test Set Predictions* assignment."
   ]
  },
  {
   "cell_type": "code",
   "execution_count": 92,
   "metadata": {
    "tags": []
   },
   "outputs": [],
   "source": [
    "test_predictions = model.predict(X_test)"
   ]
  },
  {
   "cell_type": "code",
   "execution_count": 93,
   "metadata": {
    "deletable": false,
    "editable": false
   },
   "outputs": [
    {
     "data": {
      "text/html": [
       "<p><strong><pre style='display: inline;'>q3b</pre></strong> passed! 🌟</p>"
      ],
      "text/plain": [
       "q3b results: All test cases passed!"
      ]
     },
     "execution_count": 93,
     "metadata": {},
     "output_type": "execute_result"
    }
   ],
   "source": [
    "grader.check(\"q3b\")"
   ]
  },
  {
   "cell_type": "markdown",
   "metadata": {},
   "source": [
    "The following cell generates a CSV file with your predictions. **You must submit this CSV file to the \"Project B2 Test Set Predictions\" assignment on Gradescope to get credit for this question.** You can only submit to Gradescope a maximum of 4 times per day, so please use your submissions wisely!"
   ]
  },
  {
   "cell_type": "code",
   "execution_count": 95,
   "metadata": {},
   "outputs": [
    {
     "name": "stdout",
     "output_type": "stream",
     "text": [
      "Created a CSV file: submission_20241210_051511.csv.\n"
     ]
    },
    {
     "data": {
      "text/html": [
       "Download your test prediction <a href='submission_20241210_051511.csv' download>here</a>."
      ],
      "text/plain": [
       "<IPython.core.display.HTML object>"
      ]
     },
     "metadata": {},
     "output_type": "display_data"
    },
    {
     "name": "stdout",
     "output_type": "stream",
     "text": [
      "You may now upload this CSV file to Gradescope for scoring.\n"
     ]
    }
   ],
   "source": [
    "# Assuming that your predictions on the test set are stored in a 1-dimensional array called\n",
    "# test_predictions. Feel free to modify this cell as long you create a CSV in the right format.\n",
    "\n",
    "# Construct and save the submission:\n",
    "submission_df = pd.DataFrame({\n",
    "    \"Id\": test['id'], \n",
    "    \"Class\": test_predictions,\n",
    "}, columns=['Id', 'Class'])\n",
    "timestamp = datetime.now().strftime(\"%Y%m%d_%H%M%S\")\n",
    "filename = \"submission_{}.csv\".format(timestamp)\n",
    "submission_df.to_csv(filename, index=False)\n",
    "\n",
    "print('Created a CSV file: {}.'.format(\"submission_{}.csv\".format(timestamp)))\n",
    "display(HTML(\"Download your test prediction <a href='\" + filename + \"' download>here</a>.\"))\n",
    "print('You may now upload this CSV file to Gradescope for scoring.')#"
   ]
  },
  {
   "cell_type": "markdown",
   "metadata": {},
   "source": [
    "<br/>\n",
    "<hr style=\"border: 1px solid #fdb515;\" />\n",
    "\n",
    "# Analyzing Your Model\n",
    "\n",
    "Congratulations on completing your model! In the next few questions, we'll ask you to comment on your process for building a successful model and better understand the amount of misclassifications your model makes. "
   ]
  },
  {
   "cell_type": "markdown",
   "metadata": {
    "deletable": false,
    "editable": false
   },
   "source": [
    "<!-- BEGIN QUESTION -->\n",
    "\n",
    "<br>\n",
    "\n",
    "---\n",
    "\n",
    "# Question 4\n",
    "\n",
    "Describe the process of improving your model. You should use at least 2-3 sentences each to address the following questions:\n",
    "\n",
    "1. How did you find better features for your model?\n",
    "2. What did you try that worked or didn't work?\n",
    "3. What was surprising in your search for good features?"
   ]
  },
  {
   "cell_type": "markdown",
   "metadata": {},
   "source": [
    "I compared spam and ham emails by plotting features and examining their proportions and distributions. This helped me identify patterns, such as words like \"free\" and \"html\" appearing frequently in spam emails. I also focused on structural features, such as \"Fw:\" and \"Re:\" in the subject line, which helped capture differences in how spam and ham emails are formatted.\n",
    "\n",
    "Word-based features like \"free\" and \"offer\" worked well because they were clearly more common in spam emails. Structural features like \"html\" tags also improved the model, as spam emails tend to use more HTML formatting. On the other hand, punctuation-based features like \"!\" didn’t contribute as much as expected, likely because both spam and ham emails use punctuation I guess. However, i would have assumed spam emails to use them more to create a sense of urgency.\n",
    "\n",
    "I was surprised by how effective structural features like \"Fw:\" and \"Re:\" in the subject line were at identifying spam. I didn’t expect the formatting to play such a key role, this email syntax was more predictive than I initially thought. It was also interesting to see that small differences in word frequencies for certain features could significantly improve the model’s performance."
   ]
  },
  {
   "cell_type": "markdown",
   "metadata": {
    "deletable": false,
    "editable": false
   },
   "source": [
    "<!-- END QUESTION -->\n",
    "\n",
    "<!-- BEGIN QUESTION -->\n",
    "\n",
    "<br>\n",
    "\n",
    "---\n",
    "\n",
    "# Question 5: ROC Curve\n",
    "\n",
    "In most cases, we won't be able to get 0 false positives and 0 false negatives, so we have to compromise. For example, in the case of cancer screenings, false negatives are comparatively worse than false positives — a false negative means that a patient might not discover that they have cancer until it's too late. In contrast, a patient can receive another screening for a false positive.\n",
    "\n",
    "Recall that logistic regression calculates the probability that an example belongs to a particular class. To classify an example, we say that an email is spam if our classifier gives it $\\ge 0.5$ probability of being spam. However, **we can adjust that cutoff threshold**. We can say that an email is spam only if our classifier gives it $\\ge 0.7$ probability of being spam, for example. This is how we can trade off false positives and false negatives.\n",
    "\n",
    "The Receiver Operating Characteristic (ROC) curve shows this trade-off for each possible cutoff probability. In the cell below, plot an ROC curve for your final classifier (the one you use to make predictions for Gradescope) on the training data. [Lecture 23](https://ds100.org/fa24/lecture/lec23/) may be helpful.\n",
    "\n",
    "**Hint**: You'll want to use the `.predict_proba` method [(documentation)](https://scikit-learn.org/stable/modules/generated/sklearn.linear_model.LogisticRegression.html#sklearn.linear_model.LogisticRegression.predict_proba) for your classifier instead of `.predict` to get probabilities instead of binary predictions."
   ]
  },
  {
   "cell_type": "code",
   "execution_count": 96,
   "metadata": {
    "tags": []
   },
   "outputs": [
    {
     "data": {
      "text/plain": [
       "Text(0, 0.5, 'True Positive Rate')"
      ]
     },
     "execution_count": 96,
     "metadata": {},
     "output_type": "execute_result"
    },
    {
     "data": {
      "image/png": "[encoded data removed]",
      "text/plain": [
       "<Figure size 640x480 with 1 Axes>"
      ]
     },
     "metadata": {},
     "output_type": "display_data"
    }
   ],
   "source": [
    "from sklearn.metrics import roc_curve\n",
    "fpr, tpr, threshold = roc_curve(y_train, model.predict_proba(X_train)[:, 1])\n",
    "plt.plot(fpr, tpr)\n",
    "plt.xlabel(\"False Positive Rate\")\n",
    "plt.ylabel(\"True Positive Rate\")"
   ]
  },
  {
   "cell_type": "markdown",
   "metadata": {
    "deletable": false,
    "editable": false
   },
   "source": [
    "<!-- END QUESTION -->\n",
    "\n",
    "<br/>\n",
    "<hr style=\"border: 1px solid #fdb515;\" />\n",
    "\n",
    "# Diving Deeper\n",
    "\n",
    "So far, we’ve been looking at our model through the lens of accuracy. In the next two questions, we'll dive deeper into the complexities of analyzing our model's performance. In particular, we'll ask you to explore some ambiguous cases that can arise, even within the training data itself, and the consequences of misclassification. You may have already come across some of these cases unknowingly when building your model!"
   ]
  },
  {
   "cell_type": "markdown",
   "metadata": {},
   "source": [
    "<br><br>\n",
    "\n",
    "---\n",
    "\n",
    "## Question 6\n",
    "\n",
    "To help you better understand some of the challenges that arise with classification, we've selected three emails from the `train` `DataFrame` and provided them below. Each email highlights a different issue that could arise. Skim through each of the emails below before answering part a)."
   ]
  },
  {
   "cell_type": "markdown",
   "metadata": {},
   "source": [
    "### Example 1"
   ]
  },
  {
   "cell_type": "code",
   "execution_count": 97,
   "metadata": {},
   "outputs": [
    {
     "name": "stdout",
     "output_type": "stream",
     "text": [
      "spam: 1\n",
      "\n",
      "email:\n",
      "hello you two,\n",
      " \n",
      " i am so sorry catherine for not writing recently. i have just been vv busybeing a working mother and sometimes it all gets too much you know!! i cannot wait to see you both although we may meet at the airport on the 16/6 as that's the day we're going to france but i will see you both at bronagh's house for her 30th which we're going to on the way back from the airport. i am so excited about seeing you!!! liitle eva ( aine) was born on tuesday\n",
      "  she is absolutely incredible. poor bronagh is 11 dsays over!!\n",
      " sounds like you've been having an amazing time. hope you won't be too depressed to be back!!\n",
      " \n",
      " lots of love\n",
      " \n",
      " deirdre\n",
      " \"justin mason\" <jm@jmason.org> wrote:\n",
      " \n",
      " <  \n",
      " <  just a quick note -\n",
      " <  \n",
      " <  we've decided to go up to annapurna base camp instead of\n",
      " <  the jomsom trek - it's a bit more impressive visually\n",
      " <  (if a little soggier).   so as of tomorrow morning, ourselves\n",
      " <  and our guide bhadra will be leaping like gazelles up 4000-odd\n",
      " <  metres into the himalayas... we'll be sure to take a few\n",
      " <  pics on the way.  sorry for the bonus mail, but we have to tell\n",
      " <  someone because we forgot to tell the irish embassy ;)\n",
      " <  \n",
      " <  next update in 10-14 days, ish,\n",
      " <  \n",
      " <  --j.\n",
      " <  \n",
      " <  \n",
      " <  \n",
      " <  _______________________________________________\n",
      " <  travelogue mailing list\n",
      " <  travelogue@jmason.org\n",
      " <  http://jmason.org/mailman/listinfo/travelogue\n",
      " <  \n",
      " \n",
      " \n",
      "\n"
     ]
    }
   ],
   "source": [
    "# Just run this cell, don't modify it.\n",
    "\n",
    "print(\"spam: \" + str(train.loc[5216][\"spam\"]))\n",
    "print(\"\\nemail:\\n\" + train.loc[5216][\"email\"])"
   ]
  },
  {
   "cell_type": "markdown",
   "metadata": {},
   "source": [
    "### Example 2"
   ]
  },
  {
   "cell_type": "code",
   "execution_count": 98,
   "metadata": {},
   "outputs": [
    {
     "name": "stdout",
     "output_type": "stream",
     "text": [
      "spam: 0\n",
      "\n",
      "email:\n",
      "lifetime movie newsletter\n",
      " \n",
      " this week's movies to watch on lifetime\n",
      " \n",
      " [ http://www.lifetimetv.com/movies/index.html ]\n",
      " \n",
      " august 19, 2002\n",
      " \n",
      " *************************************************************************\n",
      " \n",
      " coming at you this week...\n",
      " \n",
      " 1) \"the secret life of zoey\" premiere!\n",
      " 2) the buzz about the upcoming movie\n",
      " 3) movies airing this week\n",
      " 4) big event: a martinez sunday\n",
      " 5) fun and games\n",
      " \n",
      " *************************************************************************\n",
      " \n",
      " \"the secret life of zoey\" premiere!\n",
      " \n",
      " take a sneak peek at lifetimes next exciting original movie, \"the secret life of zoey\" [ http://www.lifetimetv.com/movies/info/move3195.html ], airing on monday, august 19 at 9 pm et/pt. zoey's mom thought she knew everything about her perfect teenage daughter. but when she realizes that her child is addicted to drugs, both of their worlds spin out of control. this dramatic film delves into the topic of teenage drug addiction and features stellar performers mia farrow, andrew mccarthy and julia whelan, from tv's \"once and again.\" go behind the scenes with the cast [ http://www.lifetimetv.com/movies/originals/bio1.html ],\n",
      " read real-life recovery stories of teen drug addicts [ http://www.lifetimetv.com/reallife/health/features/teen_addiction.html ], and learn how to keep your kids drug-free with 10 expert tips [ http://www.lifetimetv.com/reallife/health/features/drug_free.html ].\n",
      " \n",
      " *************************************************************************\n",
      " \n",
      " the buzz about the upcoming movie\n",
      " \n",
      " people are already talking about the sensitive subject of kids and drug addiction featured in \"the secret life of zoey.\"\n",
      " lifetimetv.com community member belfast belle writes:\n",
      " \"my belief is that i started using drugs to fit in and to cope with things that happened to me. my mom died when i was 10. i had to live away from my dad and brothers. where i grew up i was sexually abused for years, but i didn't dare tell anyone. when i finally went to live with my dad and brothers, i had no self-esteem left. i experienced so much shame, and in my mind it seemed as if everyone knew what happened. drugs helped me to feel ok and like i was a part of something. when my dad died, i was devastated. it threw me into a full-blown addiction. my drug use landed me in rehab, in debt and in strained relationships with my brothers. thanks to the help of narcotics anonymous, i have been clean since december 28, 1991. i now have great relationships with my siblings. i love them more than they will ever know. i also have a beautiful seven-year-old daughter who has never seen her mother touch drugs. i don't have any desire to use, either -- just the desire to be the best pe\n",
      "  rson i can be.\"\n",
      " \n",
      " express yourself! tell us your thoughts on \"the secret life of zoey\" and let us know if addiction has affected your life. go to our message boards at http://boards.lifetimetv.com/webx?14@@.ee91dd6.\n",
      " \n",
      " *************************************************************************\n",
      " \n",
      " movies airing this week\n",
      " \n",
      " \"the wrong woman,\" premiering august 20 at 9 pm et/pt\n",
      " melanie is flirting with a married man -- her boss. when he turns up dead, she is framed for his murder! will the victim's wife help save melanie from jail? starring \"the division\" star nancy mckeon [ http://www.lifetimetv.com/shows/ip/portraits/0023/0023_index.html ].\n",
      " [ http://www.lifetimetv.com/movies/info/move2355.html ]\n",
      " \n",
      " \"hit and run,\" airing august 21 at 9 pm et/pt\n",
      " joanna is the ideal mother, wife and friend. but her \"perfect\" life is altered forever when she accidentally hits a young girl with her car and leaves the scene. what catches up with her first -- her conscience or the police? starring \"the division\" star lisa vidal\n",
      " [ http://www.lifetimetv.com/shows/division/bios/cast_lisa.html ].\n",
      " [ http://www.lifetimetv.com/movies/info/move2518.html ]\n",
      " \n",
      " \"get to the heart: the barbara mandrell story,\" premiering august 22 at 9 pm et/pt\n",
      " barbara mandrell plays herself in this inspiring autobiographical movie about the country-western singer's rise to fame and the car crash that nearly killed her. also starring dolly parton and kenny rogers. find out more about this grammy-winning crooner [ http://www.lifetimetv.com/shows/ip/portraits/9837/9837_index.html ].\n",
      " [ http://www.lifetimetv.com/movies/info/move3180.html ]\n",
      " \n",
      " \"road rage,\" airing august 23 at 9 pm et/pt\n",
      " it's just another day on the freeway for ellen carson, until she innocently cuts off eddie, a short-tempered delivery driver who is upset over recent deaths in his family. then ellen and her loved ones become the stalking targets of eddie's violent wrath. starring yasmine bleeth.\n",
      " [ http://www.lifetimetv.com/movies/info/move3002.html ]\n",
      " \n",
      " *************************************************************************\n",
      " \n",
      " big event: a martinez sunday\n",
      " tune in on sunday, august 25, for a day filled with movies showcasing heartthrob a martinez, who stars in lifetime's exciting new legal series, \"for the people\" [ http://www.lifetimetv.com/shows/ftpeople/index.html ].\n",
      " \n",
      " \"she-devil,\" airing august 25 at 12 pm et/pt\n",
      " when ruth's husband, bob, leaves her for another woman, ruth devises a devious plot to ruin both their lives piece by piece. it's a face-off between roseanne barr and meryl streep!\n",
      " [ http://www.lifetimetv.com/movies/info/move1455.html ]\n",
      " \n",
      " \"manhunt: search for the night stalker,\" airing august 25 at 2 pm et/pt\n",
      " this true story recalls how famed serial killer richard ramirez terrorized los angeles for six months by murdering people in their own homes. see how the cops finally caught this vicious criminal.\n",
      " [ http://www.lifetimetv.com/movies/info/move1881.html ]\n",
      " \n",
      " \"sweet dreams,\" airing august 25 at 4 pm et/pt\n",
      " she wakes up from a coma and nothing is as it seems. will she regain her memory and realize that her husband and his mistress are out to get her? starring tiffani-amber thiessen.\n",
      " [ http://www.lifetimetv.com/movies/info/move2676.html ]\n",
      " \n",
      " \"cruel justice,\" airing august 25 at 6 pm et/pt\n",
      " after his daughter's rapist is set free by the courts, a father seeks justice on his own terms.\n",
      " [ http://www.lifetimetv.com/movies/info/move3023.html ]\n",
      " \n",
      " ***********************************************************************\n",
      " \n",
      " fun and games\n",
      " think you're ultimate film fanatic? prove it! play cinema sequence and see if you really know all the star facts and flick stats [ http://www.lifetimetv.com/movies/games/cinemaseq/index.html ].\n",
      " \n",
      " ***********************************************************************\n",
      " \n",
      " subscription information for the lifetime movie newsletter\n",
      " \n",
      " please do not reply to this e-mail; it's automatically generated, and this mailbox is not read by anyone. therefore you will not get a response. if you wish to be removed from the lifetime movie newsletter mailing list, please send an e-mail to unsubscribe-movies@email.lifetimetv.com. if you are a my lifetime member and wish to add to or modify your current newsletter preferences, please go to http://www.lifetimetv.com/cgi/edit_profile.cgi and change your subscription options. if you need to write to us, please do so at subscriptions@lifetimetv.com. thank you.\n",
      " \n",
      "\n"
     ]
    }
   ],
   "source": [
    "# Just run this cell, don't modify it.\n",
    "\n",
    "print(\"spam: \" + str(train.loc[36][\"spam\"]))\n",
    "print(\"\\nemail:\\n\" + train.loc[36][\"email\"])"
   ]
  },
  {
   "cell_type": "markdown",
   "metadata": {},
   "source": [
    "### Example 3"
   ]
  },
  {
   "cell_type": "code",
   "execution_count": 99,
   "metadata": {},
   "outputs": [
    {
     "name": "stdout",
     "output_type": "stream",
     "text": [
      "spam: 0\n",
      "\n",
      "email:\n",
      "this is a multi part message in mime format.\n",
      " \n",
      " --_nextpart_1_bvfoditvghtocxfdvjnkcuwblfv\n",
      " content-type: text/plain; charset=\"us-ascii\"\n",
      " content-transfer-encoding: 7bit\n",
      " \n",
      " ........... with our telecoms partner bumblebee !\n",
      " \n",
      " don't get ripped off by expensive hotel, payphone and mobile charges. \n",
      " save, save, save on international calls with ryanair's phone partner. \n",
      " ************************************************************************\n",
      " *********\n",
      " \n",
      " you'll save up to 70% on international phone calls when you use our \n",
      " online phone card.  you can use the card from any phone in any country \n",
      " you visit and you won't have to worry about high phone charges \n",
      " when you call home or the office.\n",
      " \n",
      " buying a card couldn't be easier and it's totally secure.  simply go to\n",
      " http://www.bumblebeecommunications.com/lowcostcalls/  \n",
      "  to avail of this special offer for ryanair customers.\n",
      " \n",
      " it's another great deal from ryanair and our online phone \n",
      " partner, bumblebee communications. \n",
      " \n",
      "  \n",
      " \n",
      " \n",
      " \n",
      " \n",
      " \n",
      " \n",
      " \n",
      " =====================================================================\n",
      " \n",
      " e-mail disclaimer\n",
      " \n",
      " this e-mail and any files and attachments transmitted with it \n",
      " are confidential and may be legally privileged. they are intended \n",
      " solely for the use of the intended recipient.  any views and \n",
      " opinions expressed are those of the individual author/sender \n",
      " and are not necessarily shared or endorsed by ryanair holdings plc \n",
      " or any associated or related company. in particular e-mail \n",
      " transmissions are not binding for the purposes of forming \n",
      " a contract to sell airline seats, directly or via promotions, \n",
      " and do not form a contractual obligation of any type.   \n",
      " such contracts can only be formed in writing by post or fax, \n",
      " duly signed by a senior company executive, subject to approval \n",
      " by the board of directors.\n",
      " \n",
      " the content of this e-mail or any file or attachment transmitted \n",
      " with it may have been changed or altered without the consent \n",
      " of the author.  if you are not the intended recipient of this e-mail, \n",
      " you are hereby notified that any review, dissemination, disclosure, \n",
      " alteration, printing, circulation or transmission of, or any \n",
      " action taken or omitted in reliance on this e-mail or any file \n",
      " or attachment transmitted with it is prohibited and may be unlawful.\n",
      " \n",
      " if you have received this e-mail in error \n",
      " please notify ryanair holdings plc by emailing postmaster@ryanair.ie\n",
      " or contact ryanair holdings plc, dublin airport, co dublin, ireland.  \n",
      " \n",
      " --_nextpart_1_bvfoditvghtocxfdvjnkcuwblfv\n",
      " content-type: application/ms-tnef\n",
      " content-transfer-encoding: base64\n",
      " \n",
      " ej8+ijuqaqaqcaaeaaaaaaabaaeaaqeqbgaiaaaa5aqaaaaaaadoaaeigacagaaaaelqts5nawny\n",
      " b3nvznqgtwfpbc5ob3rladeiaq2abaacaaaaagacaaeegaeajwaaafnhdmugdxagdg8gnzalig9u\n",
      " igludgvybmf0aw9uywwgy2fsbhmhacgnaqwaawaoaaaa0gciab4aeqaqadqabqbzaqeggamadgaa\n",
      " anihcaaeabeakga0aauacwebcyabaceaaaaxnundqzu1m0zcnjvgotrcodjbote2nji0qjy5odi2\n",
      " naagbwedkayayagaadeaaaalaaiaaqaaaamajgaaaaaaawa2aaaaaabaadkaohxzserqwgeead0a\n",
      " aqaaaaeaaaaaaaaaagfhaaeaaaayaaaayz11czthpsa7cd1sewfuywlyo2w9q0hpvk1bsuwxltay\n",
      " mdgzmde2ndi1mlotnty1ngaaab4acaabaaaajwaaafnhdmugdxagdg8gnzalig9uigludgvybmf0\n",
      " aw9uywwgy2fsbhmhaaacaxeaaqaaabyaaaabwlbesgnvr3xmdo5jp7lazao6pgd8aaaeabomaqaa\n",
      " aawaaabdb3lszswgu2vhbgaeab0oaqaaaccaaabtyxzlihvwihrvidcwjsbvbibpbnrlcm5hdglv\n",
      " bmfsignhbgxziqaaagejeaeaaac7agaatwiaalseaabmwkz1tpw4mgmacgbyy3bnmti14jidq3rl\n",
      " eavbaqmb908kgakka+mcagnocsbz8gv0mcahewkad/mauh8evghvb7irxq5raweqxzl3bgagwxhf\n",
      " mwrgemks2xht2wjvcfc7gl8omdurwgxgzmmauasjawqznhfqc6yuic4dmcad8hroinuiysaosgwf\n",
      " kw0eiaqxzhrueyfcdqbqhwbiuqngicekogqecobeaibqxcc5mgvazxewib0fexajgb6qasagynku\n",
      " ia7aimaagxygcghvzr7hlb9hexajsb+wipcacckabgbiaxagcbdiifcgcx4wikrtqvzfjaa/jlge\n",
      " kaogc4aosasgyxteaqigb0aluadabaqghlpsunkacatwcigsh1eky/sfdsxwkitplf8tby5/l0od\n",
      " ikpzcgahkiiqihnhcsobdxae0g8gnzaujsdfkeuodwgj8cb5vwhgmfarib6tikqcigwlgo8qmtpf\n",
      " cyaemcaxeshha6d3nqiecdauiansjkei8cru1wuaolmfohucmhii8cckvttcdgqahmakoztcdyf2\n",
      " 7xdwi4eymtvqcjohaaaiypk8qwlnhoaztsv0jeu0d/8ociohb4aekb7bn/eioq3grguuikof8hkl\n",
      " ggckohm4fdnrbgqhhsbqiwbh/wcqeyeksh5gkzqymagqkjc7ivarigmiceegnwbtb3bbc1ai8gcy\n",
      " qdixaajacja6ly93r1auyiagfr8hbtnwdean8yxahyevprhqdwwgc3qocy83ap8gpdiimcalcamg\n",
      " iqa30qqa+zggimbjbzeikhmhahafwh8pjsvqnqaymaeaerbbo0l/rjuaccpaniafwanbj/ag/wea\n",
      " kee4c0zmjlieojxrikt/h3ukab/4cfbisyxlskugqgtwx1drfvigab4anrabaaaasaaaadxemtng\n",
      " n0mwntq3rdcxrjrdqtqwnzmyn0e4mjuxmzywmde5q0e5q0bdse9wtufjtdeuy2hvlmnvcnaucnlh\n",
      " bmfpci5jb20+aamagbd/////cwdyeaeaaaafapmqaqaaafoaaabtageadgblacaadqbwacaadabv\n",
      " acaanwawacuamga1acaabwbuacaaaqbuahqazqbyag4ayqb0agkabwbuageabaagagmayqbsagwa\n",
      " cwahac4arqbnaewaaaaaaasa9haaaaaaqaahmn0zcuheumibqaaimjpeduheumibawdep59oaaad\n",
      " ape/cqqaab4a+d8baaaadaaaaenvewxllcbtzwfuaaib+t8baaaaxqaaaaaaaadcp0diweiqgrs5\n",
      " caarl+gcaqaaaaaaaaavtz1swufoqulsl09vpuzjulnuiefetulosvnuukfusvzfiedst1vql0no\n",
      " pvjfq0lqsuvovfmvq049q09ztevtaaaaab4a+j8baaaafqaaafn5c3rlbsbbzg1pbmlzdhjhdg9y\n",
      " aaaaaaib+z8baaaahgaaaaaaaadcp0diweiqgrs5caarl+gcaqaaaaaaaaauaaaaawazqaaaaaad\n",
      " abpaaaaaab4ameabaaaabwaaaenpwuxfuwaahgaxqaeaaaahaaaaq09ztevtaaaeadhaaqaaaaca\n",
      " aabdt1lmrvmaab4aouabaaaaagaaac4aaaadaalzaqaaaasawieiiayaaaaaamaaaaaaaabgaaaa\n",
      " aa6faaaaaaaaawbwgqggbgaaaaaawaaaaaaaaeyaaaaauouaafmuaqaeahgbccagaaaaaadaaaaa\n",
      " aaaargaaaabuhqaaaqaaaauaaaaxmc4waaaaaamauieiiayaaaaaamaaaaaaaabgaaaaaagfaaaa\n",
      " aaaaqac6gqggbgaaaaaawaaaaaaaaeyaaaaayiuaaaaaaaaaaaaacwc9gqggbgaaaaaawaaaaaaa\n",
      " aeyaaaaaa4uaaaaaaaadamebccagaaaaaadaaaaaaaaargaaaaaqhqaaaaaaaamazoeiiayaaaaa\n",
      " amaaaaaaaabgaaaaabifaaaaaaaacwdlgqggbgaaaaaawaaaaaaaaeyaaaaabouaaaaaaaalaomb\n",
      " ccagaaaaaadaaaaaaaaargaaaacchqaaaaaaaasakqaaaaaacwajaaaaaaadaayqhr1s2qmabxb/\n",
      " agaaawaqeasaaaadabeqaqaaab4acbabaaaazqaaafdjvehpvvjuruxfq09nu1bbulrorvjcvu1c\n",
      " tevcruvet05ur0vuuklquevet0zgqllfwfbftlnjvkvit1rftcxqqvlqse9orufore1pqklmruni\n",
      " qvjhrvntqvzflfnbvkusu0eaaaaaagf/aaeaaabiaaaapeqxm0y3qza1nddenzfgnenbnda3mzi3\n",
      " qtgynteznjawmtldqtldqenit1znqulmms5jag8uy29ycc5yewfuywlylmnvbt4aeoq=\n",
      " \n",
      " \n",
      " --_nextpart_1_bvfoditvghtocxfdvjnkcuwblfv\n",
      " content-type: text/plain; charset=\"us-ascii\"\n",
      " content-description: footer\n",
      " \n",
      " ---\n",
      " you are currently subscribed to customers as: zzzz-ryanair@example.com\n",
      " to unsubscribe send a blank email to leave-customers-949326k@mail.ryanairmail.com\n",
      " \n",
      " --_nextpart_1_bvfoditvghtocxfdvjnkcuwblfv--\n",
      " \n",
      " \n",
      "\n"
     ]
    }
   ],
   "source": [
    "# Just run this cell, don't modify it.\n",
    "\n",
    "print(\"spam: \" + str(train.loc[1092][\"spam\"]))\n",
    "print(\"\\nemail:\\n\" + train.loc[1092][\"email\"])"
   ]
  },
  {
   "cell_type": "markdown",
   "metadata": {
    "deletable": false,
    "editable": false
   },
   "source": [
    "<!-- BEGIN QUESTION -->\n",
    "\n",
    "### Question 6a\n",
    "\n",
    "Pick at least **one** of the emails provided above to comment on. How would you classify the email (e.g., spam or ham), and does this align with the classification provided in the training data? What could be a reason someone would disagree with *your* classification of the email? In 2-3 sentences, explain your perspective and potential reasons for disagreement."
   ]
  },
  {
   "cell_type": "markdown",
   "metadata": {},
   "source": [
    "I would classify the first email as ham because it is a personal message with no promotional content or call-to-action language typically found in spam. However, the training data labels it as spam. Someone might disagree with my classification because the email contains forwarded content with technical formatting (e.g., mailing list details, links, email headers, punctuations), which could trigger spam filters."
   ]
  },
  {
   "cell_type": "markdown",
   "metadata": {
    "deletable": false,
    "editable": false
   },
   "source": [
    "<!-- END QUESTION -->\n",
    "\n",
    "<!-- BEGIN QUESTION -->\n",
    "\n",
    "### Question 6b\n",
    "\n",
    "As data scientists, we sometimes take the data to be a fixed “ground truth,” establishing the “correct” classification of emails. However, as you might have seen above, some emails can be ambiguous; people may disagree about whether an email is actually spam or ham. How does the ambiguity in our labeled data (spam or ham) affect our understanding of the model's predictions and the way we measure/evaluate our model's performance?"
   ]
  },
  {
   "cell_type": "markdown",
   "metadata": {},
   "source": [
    "Ambiguity in labeled data affects both model predictions and evaluation by introducing uncertainty into the training process and making metrics like accuracy less reliable. When labels are subjective or inconsistent, the model may align with ambiguous patterns rather than true spam or ham characteristics. This makes it harder to fully trust evaluation metrics and highlights the need to account for uncertainty in real-world applications."
   ]
  },
  {
   "cell_type": "markdown",
   "metadata": {
    "deletable": false,
    "editable": false
   },
   "source": [
    "<!-- END QUESTION -->\n",
    "\n",
    "As a data scientist, we encourage you to think more critically about your data before establishing it as the \"ground truth.\" Whenever you're working on a specific problem, ask yourself:  \n",
    "1. Who “made” the data? Think about all the stages from when it was first generated, collected, and labeled before it ended up in a CSV file.\n",
    "2. What assumptions and biases are inherently present in the data?\n",
    "3. And finally, how does all this affect how you interpret your model’s performance?"
   ]
  },
  {
   "cell_type": "markdown",
   "metadata": {},
   "source": [
    "<br><br>\n",
    "\n",
    "---\n",
    "\n",
    "## Question 7\n",
    "\n",
    "In Question 6, we explored the instability present in the “ground truth” and how this affects our evaluation of our model. Now, let's start thinking about your model's interpretability and what that means more broadly for an email classification task. A model is considered interpretable if humans can easily understand the reasoning behind its predictions and classifications."
   ]
  },
  {
   "cell_type": "markdown",
   "metadata": {},
   "source": [
    "### Question 7a\n",
    "\n",
    "First, let's see if we can understand how our choice of features relates to how a particular email is classified. "
   ]
  },
  {
   "cell_type": "markdown",
   "metadata": {
    "deletable": false,
    "editable": false
   },
   "source": [
    "#### Part i\n",
    "\n",
    "Let’s take a look at the `simple_model` we provided you earlier that uses 5 features. We have provided the code below for ease of reference. You will examine how a particular feature influences how an email is classified. "
   ]
  },
  {
   "cell_type": "code",
   "execution_count": 100,
   "metadata": {
    "deletable": false,
    "editable": false
   },
   "outputs": [],
   "source": [
    "# Simple model introduced at the start of this notebook. Just pay attention to the features.\n",
    "some_words = ['drug', 'bank', 'prescription', 'memo', 'private']\n",
    "\n",
    "X_train = words_in_texts(some_words, train['email'])\n",
    "Y_train = np.array(train['spam'])\n",
    "\n",
    "simple_model = LogisticRegression()\n",
    "simple_model.fit(X_train, Y_train);"
   ]
  },
  {
   "cell_type": "markdown",
   "metadata": {
    "deletable": false,
    "editable": false
   },
   "source": [
    "Pick an email from the training set and assign its index to `email_idx`. Then, find **one** feature used in `simple_model` such that **removing** it changes how that email is classified. Assign this feature to  `feature_to_remove`.\n",
    "\n",
    "**Hint**: We suggest starting with finding spam emails that contain the features in our model. All the features in our simple model relate to spam emails, thus it is easier to find a spam email + remove a feature to get it to flip classes."
   ]
  },
  {
   "cell_type": "code",
   "execution_count": 101,
   "metadata": {
    "tags": []
   },
   "outputs": [
    {
     "name": "stdout",
     "output_type": "stream",
     "text": [
      "Shortest spam email index: 715, Word count: 69\n",
      "Features present: [('private', 1)]\n"
     ]
    }
   ],
   "source": [
    "# Use this cell for scratch work when determining `email_idx`\n",
    "some_words = ['drug', 'bank', 'prescription', 'memo', 'private']\n",
    "X_train = words_in_texts(some_words, train['email'])\n",
    "\n",
    "spam_indices = train[train['spam'] == 1].index\n",
    "\n",
    "min_word_count = float('inf')\n",
    "email_idx = None\n",
    "\n",
    "for idx in spam_indices:\n",
    "    email_features = X_train[idx]\n",
    "    if email_features.sum() > 0:  \n",
    "        word_count = len(train.loc[idx, 'email'].split())\n",
    "        if word_count < min_word_count:\n",
    "            min_word_count = word_count\n",
    "            email_idx = idx\n",
    "\n",
    "print(f\"Shortest spam email index: {email_idx}, Word count: {min_word_count}\")\n",
    "print(f\"Features present: {[(word, X_train[email_idx][i]) for i, word in enumerate(some_words) if X_train[email_idx][i]]}\")"
   ]
  },
  {
   "cell_type": "code",
   "execution_count": 102,
   "metadata": {
    "tags": []
   },
   "outputs": [
    {
     "name": "stdout",
     "output_type": "stream",
     "text": [
      "\n",
      "Predicted probability of being spam: 55.57%\n",
      "\n",
      "Email:\n",
      "\n",
      " dear consumers, increase your business sales!  how?? by \n",
      " targeting millions of buyers via e-mail !! \n",
      " 15 million emails  + bulk mailing software for only $100.00\n",
      "                             super low price! act now !!!\n",
      "                      \n",
      " our fresh addresses will bring you \n",
      " incredible results!\n",
      " \n",
      " \n",
      " if you really want to get the word out regarding\n",
      " your services or products, bulk email is the best \n",
      " way to do so, period! advertising in newsgroups is \n",
      " good but you're competing with hundreds even thousands\n",
      " of other ads. will your customer's see your ad in the \n",
      " midst of all the others?\n",
      " \n",
      " free classifieds?  (don't work)\n",
      " web site?          (takes thousands of visitors)\n",
      " banners?           (expensive and iffy)\n",
      " e-zine?            (they better have a huge list)\n",
      " search engines?    (easily buried with thousands of others)\n",
      " \n",
      " bulk email will allow you to directly contact your\n",
      " potential customers. they are much more likely to\n",
      " take the time to read about what you have to offer \n",
      " if it was as easy as reading it via email rather\n",
      " than searching through countless postings in \n",
      " newsgroups.\n",
      " the list's are divided into groups and are compressed. \n",
      " this will allow you to use the names right off the cd. \n",
      " order in the next 72 hours and receive 4 bonuses!!   \n",
      " \n",
      " *bonus #1 receive an additional cd-rom with millions of fresh, \n",
      " deliverable general internet e-mail addresses free!! \n",
      " \n",
      " *bonus #2 receive 2000 how to books, reports and manuals on cd-rom with\n",
      " reprint resale rights! produce for pennies and resell for big dollars! \n",
      " \n",
      " *bonus #3 receive the mass mailer bulk delivery software, with full\n",
      " operating instructions. this software will get the mail out quick! \n",
      " \n",
      " *bonus #4 receive the informational guide to bulk e-mail. this guide \n",
      " will give you all the information you need to get started! \n",
      " \n",
      " this is a one time package deal worth hundreds of dollars!!   \n",
      " act now! this is a limited time offer! order while supplies last! \n",
      " receive this dream package for the unbelievable low, low  price of  \n",
      " only $100.00\n",
      "                     \n",
      " \n",
      "                    ordering information:\n",
      "  \n",
      " send check are money order to:\n",
      " \n",
      " sellers communications\n",
      " 2714 west 5th\n",
      " north platte, ne 69101\n",
      " u.s.a.\n",
      " \n",
      " \n",
      "         check by fax services or credit caro info: \n",
      " o r d e r   n o w . . . same day service (m-f) if your order\n",
      " is received before 3pm central . to place an order, you can call us at: \n",
      " 1-308-534-2098  are fax your order to 1-208-975-0773\n",
      " \n",
      " this number is for credit card orders only!!!\n",
      "             check by fax services!\n",
      " \n",
      " \n",
      " __________________________________________\n",
      " \n",
      " to order, via credit card simply cut/paste and print out the\n",
      " ez order form below and fax to our office today.\n",
      " \n",
      " \n",
      "           ***** now only $100! *****\n",
      " \n",
      " this \"special price\" is in effect for the next seven days,\n",
      " after that we go back to our regular price of $250.00 ...\n",
      " don't delay... you can be in business tomorrow!  \n",
      " \n",
      " we accept visa, mastercard, amex, disc and checks by fax.\n",
      " \n",
      " ----------------------cut & paste----------------------\n",
      " ---------------------ez order form---------------------\n",
      " \n",
      " _____yes! i want everything!  i am ordering within 72 hours.\n",
      " include my free \"business on a disk\" bonus along with your \n",
      " millions of e-mail addresses on cd (plus 1,093,808 bonus addresses)\n",
      " for the special price of only $100.00 + shipping as indicated\n",
      " below.\n",
      " \n",
      " _____yes!  i missed the 72 hour special, but i am ordering\n",
      " cd with, super clean e-mail addresses within 7 days for the\n",
      " \"special\" price of only $250.00 + s&h.\n",
      " \n",
      " _____oop's i missed the 72 hour and 7 day \"specials\".  i am\n",
      " ordering the cd  at the regular price of $250.00 + s&h.\n",
      " \n",
      "      ***please select your shipping option***\n",
      " \n",
      " ____i would like to receive my package fedex overnight. i am\n",
      " including $15 for shipping. (hawaii & alaska $20 - canada $25,\n",
      " all other international add an *additional* $25 [$40 total] for shipping)\n",
      "  \n",
      " ____i would like to receive my package fedex 2 day delivery.\n",
      " i'm including $10 for shipping. (sorry no canada or international\n",
      " delivery - continental u.s. shipping addresses only)\n",
      " \n",
      "                   ***please print carefully***\n",
      " \n",
      " note:  orders cannot be shipped without complete information\n",
      " including your signature.  no exceptions!\n",
      " \n",
      " name____________________________________________________\n",
      " \n",
      " company name____________________________________________\n",
      " \n",
      " address_________________________________________________\n",
      " (fedex can only ship to street addresses - no p.o. boxes)\n",
      " \n",
      " city, state, zip________________________________________\n",
      " \n",
      " phone number____________________________________________\n",
      " (required for shipping & tracking) \n",
      " \n",
      " email address___________________________________________\n",
      " (print carefully - required in case we have a question and to\n",
      " send you a confirmation that your order has been shipped and for \n",
      "  technical support if you order within 24 hrs) \n",
      " \n",
      " type of credit card:\n",
      " \n",
      " ______visa _____mastercard  ______amex ______disc\n",
      " \n",
      " credit card# __________________________________________\n",
      " \n",
      " expiration date________________________________________\n",
      " \n",
      " name on card___________________________________________\n",
      " \n",
      " total amount (including shipping): $___________________\n",
      " \n",
      " date:x__________________\n",
      " \n",
      " (required) signature:x_________________________________\n",
      " i understand that i am purchasing the e-mail address on cd,\n",
      " and authorize the above charge to my credit card, the addresses are not rented, \n",
      " but are mine to use for my own mailing, over-and-over.  free bonuses are included, \n",
      " but cannot be considered part of the financial transaction.  i understand that it \n",
      " is my responsibility to comply with any laws applicable to my local area.  as with \n",
      " all software, once opened the cd may not be returned, however, if found defective \n",
      " it will be replaced with like product at no charge.\n",
      " \n",
      " o r d e r   n o w . . . same day service (m-f) if your order\n",
      " is received before 3pm central . to place an order, you can call us at: \n",
      "  1-308-534-2098  are fax your order to 1-208-975-0773  \n",
      " this number is for credit card orders only!!!\n",
      "             check by fax services!\n",
      " \n",
      " if you would like to fax a check, paste your check below and fax it to our office \n",
      " along with the ez order form forms to: 1-520-244-5912\n",
      " \n",
      " **********************************************************\n",
      " \n",
      "     ***24 hour fax services*** please paste your\n",
      " \n",
      "  check here and fax it to us at   1-208-975-0773\n",
      " \n",
      " \n",
      " **********************************************************\n",
      " \n",
      " if you fax a check, there is no need for you to mail the\n",
      " original.  we will draft a new check, with the exact\n",
      " information from your original check. all checks will be\n",
      " held for bank clearance. (7-10 days) make payable to: \n",
      " \"sellers communications\"\n",
      " \n",
      " \n",
      " -=-=-=-=--=-=-=-=-=-=-=remove instructions=-=-=-=-=-=-=-=-=-=-=-=\n",
      " \n",
      " **************************************************************\n",
      " do not reply to this message - \n",
      " to be removed from future mailings:\n",
      " mailto:nomore2001@asean-mail.com?subject=remove\n",
      " **************************************************************\n",
      " \n",
      " \n",
      " \n",
      " \n",
      " \n",
      " \n",
      " \n",
      " \n",
      " \n",
      " \n",
      " \n",
      "\n"
     ]
    }
   ],
   "source": [
    "email_idx = idx\n",
    "\n",
    "prob_spam = simple_model.predict_proba(X_train)[:, 1]\n",
    "initial_prob = prob_spam[email_idx]\n",
    "initial_class = \"spam\" if np.round(initial_prob) else \"ham\"\n",
    "print(f\"\\nPredicted probability of being spam: {np.round(initial_prob*100, 2)}%\")\n",
    "print(\"\\nEmail:\\n\" + train.loc[email_idx][\"email\"])"
   ]
  },
  {
   "cell_type": "code",
   "execution_count": 103,
   "metadata": {
    "tags": []
   },
   "outputs": [
    {
     "name": "stdout",
     "output_type": "stream",
     "text": [
      "Initially classified as spam (Probability: 55.57%)\n",
      "Now classified as ham (Probability: 24.33%)\n"
     ]
    }
   ],
   "source": [
    "feature_to_remove = 'bank'\n",
    "\n",
    "changed_words = some_words.copy()\n",
    "changed_words.remove(feature_to_remove)\n",
    "\n",
    "changed_model = LogisticRegression()\n",
    "X_changed = words_in_texts(changed_words, train['email'])\n",
    "y = train['spam']\n",
    "changed_model.fit(X_changed, y)\n",
    "changed_prob = changed_model.predict_proba(X_changed[[email_idx]])[:,1][0]\n",
    "changed_class = \"spam\" if np.round(changed_prob) else \"ham\"\n",
    "\n",
    "print(f\"Initially classified as {initial_class} (Probability: {np.round(initial_prob*100, 2)}%)\")\n",
    "print(f\"Now classified as {changed_class} (Probability: {np.round(changed_prob*100, 2)}%)\")"
   ]
  },
  {
   "cell_type": "code",
   "execution_count": 104,
   "metadata": {
    "deletable": false,
    "editable": false
   },
   "outputs": [
    {
     "data": {
      "text/html": [
       "<p><strong><pre style='display: inline;'>q7ai</pre></strong> passed! 🍀</p>"
      ],
      "text/plain": [
       "q7ai results: All test cases passed!"
      ]
     },
     "execution_count": 104,
     "metadata": {},
     "output_type": "execute_result"
    }
   ],
   "source": [
    "grader.check(\"q7ai\")"
   ]
  },
  {
   "cell_type": "markdown",
   "metadata": {
    "deletable": false,
    "editable": false
   },
   "source": [
    "<!-- BEGIN QUESTION -->\n",
    "\n",
    "#### Part ii\n",
    "\n",
    "Please provide below the index of the email that you removed (`email_idx`). Additionally, in 2-3 sentences, explain why you think the feature you chose to remove changed how your email was classified."
   ]
  },
  {
   "cell_type": "markdown",
   "metadata": {},
   "source": [
    "I removed the email indexed 715 because it contained the least number of words while still including at least one of our features. Although the feature present in the email wasn’t the one I chose to remove, its short length and low confidence (55%) that it was spam influenced my decision. I removed the 'bank' feature because it was one of the strongly associated words found in spam emails and changed how email 715 was  classified. Without this feature, the model had less confidence in classifying the email as spam, and it flipped to ham, showing how much it relied on 'bank' to make its prediction."
   ]
  },
  {
   "cell_type": "markdown",
   "metadata": {
    "deletable": false,
    "editable": false
   },
   "source": [
    "<!-- END QUESTION -->\n",
    "\n",
    "### Question 7b\n",
    "\n",
    "Now, let's say that instead of working with a small model containing 50-100 features, you're working with a much larger, more accurate model containing 1000 features. "
   ]
  },
  {
   "cell_type": "markdown",
   "metadata": {
    "deletable": false,
    "editable": false
   },
   "source": [
    "<!-- BEGIN QUESTION -->\n",
    "\n",
    "#### Part i\n",
    "In this context, do you think you could easily find a feature that could change an email's classification as you did in part a)? Why or why not?"
   ]
  },
  {
   "cell_type": "markdown",
   "metadata": {},
   "source": [
    "In a larger model with 1000 features, it would likely be much harder to find a single feature that changes an email’s classification. With so many features, the model’s predictions are based on a combination of many subtle signals rather than reliance on a few strongly associated features. Removing one feature would likely have less impact on the overall classification because the remaining features could compensate for the missing information. This increased complexity makes the model more robust but less interpretable at the individual feature level."
   ]
  },
  {
   "cell_type": "markdown",
   "metadata": {
    "deletable": false,
    "editable": false
   },
   "source": [
    "<!-- END QUESTION -->\n",
    "\n",
    "<!-- BEGIN QUESTION -->\n",
    "\n",
    "#### Part ii \n",
    "Would you expect this new model to be more or less interpretable than `simple_model`?\n",
    "\n",
    "**Note**: A model is considered interpretable if you can easily understand the reasoning behind its predictions and classifications. For example, the model we saw in part a), `simple_model`, is considered interpretable as we can identify which features contribute to an email's classification."
   ]
  },
  {
   "cell_type": "markdown",
   "metadata": {},
   "source": [
    "The new model with 1000 features would be less interpretable than simple_model. With so many features, it becomes much harder to pinpoint which specific features contribute to an email’s classification. In contrast, simple_model is interpretable because it uses a small number of features, making it easier to trace the reasoning behind its predictions. While the new model might be more accurate, its complexity reduces our ability to understand its decision-making process."
   ]
  },
  {
   "cell_type": "markdown",
   "metadata": {
    "deletable": false,
    "editable": false
   },
   "source": [
    "<!-- END QUESTION -->\n",
    "\n",
    "<!-- BEGIN QUESTION -->\n",
    "\n",
    "### Question 7c\n",
    "\n",
    "Now, imagine you’re a data scientist at Meta, developing a text classification model to decide whether to remove certain posts / comments on Facebook. In particular, you’re primarily working on moderating the following categories of content:\n",
    "* Hate speech\n",
    "* Misinformation \n",
    "* Violence and incitement\n",
    "\n",
    "Pick one of these types of content to focus on (or if you have another type you’d like to focus on, feel free to comment on that!). What content would fall under the category you’ve chosen? Refer to Facebook’s [Community Standards](https://transparency.fb.com/policies/community-standards/), which outline what is and isn’t allowed on Facebook. "
   ]
  },
  {
   "cell_type": "markdown",
   "metadata": {},
   "source": [
    "For hate speech, content that attacks individuals or groups based on their race, ethnicity, gender identity, sexual orientation, religion, or disability would fall under this category. According to Facebook's Community Standards, hate speech includes dehumanizing statements, calls for exclusion, or slurs directed at individuals or groups in these categories. I would also add that anything that incites violence against a particular group or portrays a specific community as less than human would fall under this category."
   ]
  },
  {
   "cell_type": "markdown",
   "metadata": {
    "deletable": false,
    "editable": false
   },
   "source": [
    "<!-- END QUESTION -->\n",
    "\n",
    "<!-- BEGIN QUESTION -->\n",
    "\n",
    "### Question 7d\n",
    "\n",
    "What are the stakes of misclassifying a post in the context of a social media platform? Comment on what a false positive and false negative means for the category of content you’ve chosen (hate speech, misinformation, or violence and incitement)."
   ]
  },
  {
   "cell_type": "markdown",
   "metadata": {},
   "source": [
    "Misclassifying hate speech has serious consequences. A false positive (flagging non-hate speech) can suppress free expression and harm trust, especially for marginalized groups discussing their experiences. A false negative (failing to flag hate speech) allows harmful content to remain, potentially leading to harassment or real-world violence."
   ]
  },
  {
   "cell_type": "markdown",
   "metadata": {
    "deletable": false,
    "editable": false
   },
   "source": [
    "<!-- END QUESTION -->\n",
    "\n",
    "<!-- BEGIN QUESTION -->\n",
    "\n",
    "### Question 7e\n",
    "\n",
    "As a data scientist, why might having an interpretable model be useful when moderating content online?"
   ]
  },
  {
   "cell_type": "markdown",
   "metadata": {},
   "source": [
    "An interpretable model is important because it helps explain why a post is flagged, ensuring decisions align with moderation guidelines. It allows data scientists to spot and fix biases, improve accuracy, and provide transparency to users, which builds trust and accountability."
   ]
  },
  {
   "cell_type": "markdown",
   "metadata": {
    "deletable": false,
    "editable": false
   },
   "source": [
    "<!-- END QUESTION -->\n",
    "\n",
    "As you explored throughout this question, interpretability is incredibly important. However, it is equally important to note that interpretability on its own isn’t a fix to all the problems that may arise when moderating content or when building a model more generally. As we touched on in Project A2, these models don’t operate in a vacuum; they exist in a wider sociotechnical system. Everything from the data used to train these models to the metrics we choose to evaluate our models builds on that notion."
   ]
  },
  {
   "cell_type": "markdown",
   "metadata": {},
   "source": [
    "<br/><br/>\n",
    "<hr style=\"border: 5px solid #003262;\" />\n",
    "<hr style=\"border: 1px solid #fdb515;\" />\n",
    "\n",
    "## The pets of Data100 congratulate you for finishing Project B2 (the last major assignment)!\n",
    "\n",
    "<div align=\"middle\">\n",
    "    <table style=\"width:75%\">\n",
    "      <tr align=\"center\">\n",
    "        <td><img src=\"images/IMG_2792.jpg\" align=\"middle\" width=\"325vw\"/>\n",
    "        <td><img src=\"images/_DSC9613.jpg\" align=\"middle\" width=\"335vw\"/>\n",
    "        <td><img src=\"images/IMG_2797.jpg\" align=\"middle\" width=\"325vw\"/>\n",
    "      </tr>\n",
    "      <tr align=\"center\">\n",
    "        <td><img src=\"images/IMG_5768.jpg\" align=\"middle\" width=\"325vw\"/>\n",
    "        <td><img src=\"images/IMG_2485.jpg\" align=\"middle\" width=\"325vw\"/>\n",
    "        <td><img src=\"images/IMG_5878.jpg\" align=\"middle\" width=\"325vw\"/>\n",
    "      </tr>\n",
    "      <tr align=\"center\">\n",
    "        <td><img src=\"images/IMG_8790.jpg\" align=\"middle\" width=\"325vw\"/>\n",
    "        <td><img src=\"images/IMG_6077.jpeg\" align=\"middle\" width=\"325vw\"/>\n",
    "        <td><img src=\"images/IMG_9524.jpg\" align=\"middle\" width=\"325vw\"/>\n",
    "      </tr>\n",
    "    </table>\n",
    "  </div>\n",
    "\n",
    "### Course Content Feedback\n",
    "\n",
    "If you have any feedback about this assignment or about any of our other weekly, weekly assignments, lectures, or discussions, please fill out the [Course Content Feedback Form](https://docs.google.com/forms/d/e/1FAIpQLSdpKA_E3b7PGqKSRqBUgSebb9bVFhRwRBv1ueisGsnKFkZkYg/viewform). Your input is valuable in helping us improve the quality and relevance of our content to better meet your needs and expectations!\n",
    "\n",
    "### Submission Instructions\n",
    "\n",
    "Below, you will see a cell. Running this cell will automatically generate a zip file with your autograded answers. Once you submit this file to the Project B2 Coding assignment on Gradescope, Gradescope will automatically submit a PDF file with your written answers to the Project B2 Written assignment. If you run into any issues when running this cell, feel free to check this [section](https://ds100.org/debugging-guide/autograder_gradescope/autograder_gradescope.html#why-does-grader.exportrun_teststrue-fail-if-all-previous-tests-passed) in the Data 100 Debugging Guide.\n",
    "\n",
    "If there are issues with automatically generating the PDF, you can try downloading the notebook as a PDF by clicking on `File -> Save and Export Notebook As... -> PDF`. If that doesn't work either, you can manually take screenshots of your answers to the manually graded questions and submit those. \n",
    "\n",
    "**Please make sure you submit the following to the right assignments:**\n",
    "\n",
    "* **Project B2 Coding:** Submit the zip file generated by using the `grader.export()` cell provided below.\n",
    "* **Project B2 Written:** Gradescope will automatically submit the PDF from the zip file submitted earlier. You do not need to submit anything to this assignment yourself, but *please check that the submission went through properly and that all plots rendered correctly*.\n",
    "* **Project B2 Test Set Predictions:** Submit the CSV file generated in `q3b`.\n",
    "\n",
    "**You are responsible for ensuring your submission follows our requirements and that everything was generated and submitted correctly. We will not be granting regrade requests nor extensions to submissions that don't follow instructions.** If you encounter any difficulties with submission, please don't hesitate to reach out to staff prior to the deadline. "
   ]
  },
  {
   "cell_type": "markdown",
   "metadata": {
    "deletable": false,
    "editable": false
   },
   "source": [
    "## Submission\n",
    "\n",
    "Make sure you have run all cells in your notebook in order before running the cell below, so that all images/graphs appear in the output. The cell below will generate a zip file for you to submit. **Please save before exporting!**"
   ]
  },
  {
   "cell_type": "code",
   "execution_count": 105,
   "metadata": {
    "deletable": false,
    "editable": false
   },
   "outputs": [
    {
     "name": "stdout",
     "output_type": "stream",
     "text": [
      "Running your submission against local test cases...\n",
      "\n",
      "\n",
      "Your submission received the following results when run against available test cases:\n",
      "\n",
      "    q3a results: All test cases passed!\n",
      "\n",
      "    q3b results: All test cases passed!\n",
      "\n",
      "    q7ai results: All test cases passed!\n"
     ]
    },
    {
     "data": {
      "text/html": [
       "\n",
       "                    <p>\n",
       "                        Your submission has been exported. Click\n",
       "                        <a href=\"projB2_2024_12_10T05_20_44_932344.zip\" download=\"projB2_2024_12_10T05_20_44_932344.zip\" target=\"_blank\">here</a> to download\n",
       "                        the zip file.\n",
       "                    </p>\n",
       "                "
      ],
      "text/plain": [
       "<IPython.core.display.HTML object>"
      ]
     },
     "metadata": {},
     "output_type": "display_data"
    }
   ],
   "source": [
    "# Save your notebook first, then run this cell to export your submission.\n",
    "grader.export(run_tests=True)"
   ]
  },
  {
   "cell_type": "markdown",
   "metadata": {},
   "source": [
    " "
   ]
  }
 ],
 "metadata": {
  "kernelspec": {
   "display_name": "Python 3 (ipykernel)",
   "language": "python",
   "name": "python3"
  },
  "language_info": {
   "codemirror_mode": {
    "name": "ipython",
    "version": 3
   },
   "file_extension": ".py",
   "mimetype": "text/x-python",
   "name": "python",
   "nbconvert_exporter": "python",
   "pygments_lexer": "ipython3",
   "version": "3.11.10"
  },
  "otter": {
   "OK_FORMAT": true,
   "require_no_pdf_confirmation": true,
   "tests": {
    "q3a": {
     "name": "q3a",
     "points": 5,
     "suites": [
      {
       "cases": [
        {
         "code": ">>> assert 'sklearn.feature_extraction.text' not in sys.modules.keys()\n>>> bool(training_accuracy >= 0.7)\nTrue",
         "hidden": false,
         "locked": false,
         "points": 1.5
        },
        {
         "code": ">>> assert 'sklearn.feature_extraction.text' not in sys.modules.keys()\n>>> bool(training_accuracy >= 0.8)\nTrue",
         "hidden": false,
         "locked": false,
         "points": 1.5
        },
        {
         "code": ">>> assert 'sklearn.feature_extraction.text' not in sys.modules.keys()\n>>> bool(training_accuracy >= 0.84)\nTrue",
         "hidden": false,
         "locked": false,
         "points": 2
        }
       ],
       "scored": true,
       "setup": "",
       "teardown": "",
       "type": "doctest"
      }
     ]
    },
    "q3b": {
     "name": "q3b",
     "points": 0,
     "suites": [
      {
       "cases": [
        {
         "code": ">>> assert 'sklearn.feature_extraction.text' not in sys.modules.keys()\n>>> bool(isinstance(test_predictions, np.ndarray))\nTrue",
         "hidden": false,
         "locked": false
        },
        {
         "code": ">>> assert 'sklearn.feature_extraction.text' not in sys.modules.keys()\n>>> bool(np.array_equal(np.unique(test_predictions), np.array([0, 1])))\nTrue",
         "hidden": false,
         "locked": false
        },
        {
         "code": ">>> assert 'sklearn.feature_extraction.text' not in sys.modules.keys()\n>>> bool(len(test_predictions) == 1000)\nTrue",
         "hidden": false,
         "locked": false
        }
       ],
       "scored": true,
       "setup": "",
       "teardown": "",
       "type": "doctest"
      }
     ]
    },
    "q7ai": {
     "name": "q7ai",
     "points": 1,
     "suites": [
      {
       "cases": [
        {
         "code": ">>> assert simple_model.n_features_in_ == changed_model.n_features_in_ + 1\n",
         "hidden": false,
         "locked": false
        },
        {
         "code": ">>> assert changed_class != initial_class\n",
         "hidden": false,
         "locked": false
        }
       ],
       "scored": true,
       "setup": "",
       "teardown": "",
       "type": "doctest"
      }
     ]
    }
   }
  }
 },
 "nbformat": 4,
 "nbformat_minor": 4
}
